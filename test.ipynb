{
 "cells": [
  {
   "cell_type": "code",
   "execution_count": 2,
   "metadata": {},
   "outputs": [],
   "source": [
    "from scipy.spatial import distance\n",
    "import numpy as np\n",
    "import pandas as pd"
   ]
  },
  {
   "cell_type": "code",
   "execution_count": 30,
   "metadata": {},
   "outputs": [
    {
     "data": {
      "text/plain": [
       "0.0"
      ]
     },
     "execution_count": 30,
     "metadata": {},
     "output_type": "execute_result"
    }
   ],
   "source": [
    "a = np.array([1, 1, 0])\n",
    "b = np.array([1, 1, 0])\n",
    "\n",
    "\n",
    "\n",
    "[distance.jaccard(query, i) for i in ]\n"
   ]
  },
  {
   "cell_type": "code",
   "execution_count": 34,
   "metadata": {},
   "outputs": [
    {
     "data": {
      "text/plain": [
       "0.5"
      ]
     },
     "execution_count": 34,
     "metadata": {},
     "output_type": "execute_result"
    }
   ],
   "source": [
    "jaccard(a,b)"
   ]
  },
  {
   "cell_type": "code",
   "execution_count": 32,
   "metadata": {},
   "outputs": [],
   "source": [
    "def jaccard(x,y):\n",
    "    z=set(x).intersection(set(y))\n",
    "    n=float(len(z))/(len(x)+len(y)-len(z))\n",
    "    return n\n",
    "\n"
   ]
  },
  {
   "cell_type": "code",
   "execution_count": 3,
   "metadata": {},
   "outputs": [],
   "source": [
    "db = np.load('src/search_module/db_index/db_binary_vector.npy')\n",
    "metadata = pd.read_csv('src/search_module/db_index/image_db_index.csv')"
   ]
  },
  {
   "cell_type": "code",
   "execution_count": 37,
   "metadata": {},
   "outputs": [
    {
     "data": {
      "text/html": [
       "<div>\n",
       "<style scoped>\n",
       "    .dataframe tbody tr th:only-of-type {\n",
       "        vertical-align: middle;\n",
       "    }\n",
       "\n",
       "    .dataframe tbody tr th {\n",
       "        vertical-align: top;\n",
       "    }\n",
       "\n",
       "    .dataframe thead th {\n",
       "        text-align: right;\n",
       "    }\n",
       "</style>\n",
       "<table border=\"1\" class=\"dataframe\">\n",
       "  <thead>\n",
       "    <tr style=\"text-align: right;\">\n",
       "      <th></th>\n",
       "      <th>Hipercellularity</th>\n",
       "      <th>Membranous</th>\n",
       "      <th>Normal</th>\n",
       "      <th>Sclerosis</th>\n",
       "      <th>podocytopathy</th>\n",
       "      <th>crescent</th>\n",
       "      <th>file</th>\n",
       "      <th>True Attribute</th>\n",
       "    </tr>\n",
       "  </thead>\n",
       "  <tbody>\n",
       "    <tr>\n",
       "      <th>0</th>\n",
       "      <td>0</td>\n",
       "      <td>0</td>\n",
       "      <td>0</td>\n",
       "      <td>1</td>\n",
       "      <td>0</td>\n",
       "      <td>1</td>\n",
       "      <td>/crescentes/AZAN/FIOCRUZ20190122 (1514).jpg</td>\n",
       "      <td>crescentes</td>\n",
       "    </tr>\n",
       "    <tr>\n",
       "      <th>1</th>\n",
       "      <td>0</td>\n",
       "      <td>0</td>\n",
       "      <td>0</td>\n",
       "      <td>0</td>\n",
       "      <td>0</td>\n",
       "      <td>1</td>\n",
       "      <td>/crescentes/AZAN/FIOCRUZ20190122 (1963).jpg</td>\n",
       "      <td>crescentes</td>\n",
       "    </tr>\n",
       "    <tr>\n",
       "      <th>2</th>\n",
       "      <td>0</td>\n",
       "      <td>0</td>\n",
       "      <td>0</td>\n",
       "      <td>1</td>\n",
       "      <td>0</td>\n",
       "      <td>1</td>\n",
       "      <td>/crescentes/AZAN/FIOCRUZ20190122 (252).jpg</td>\n",
       "      <td>crescentes</td>\n",
       "    </tr>\n",
       "    <tr>\n",
       "      <th>3</th>\n",
       "      <td>0</td>\n",
       "      <td>0</td>\n",
       "      <td>0</td>\n",
       "      <td>0</td>\n",
       "      <td>0</td>\n",
       "      <td>1</td>\n",
       "      <td>/crescentes/AZAN/FIOCRUZ20190122 (2520).jpg</td>\n",
       "      <td>crescentes</td>\n",
       "    </tr>\n",
       "    <tr>\n",
       "      <th>4</th>\n",
       "      <td>0</td>\n",
       "      <td>0</td>\n",
       "      <td>0</td>\n",
       "      <td>1</td>\n",
       "      <td>0</td>\n",
       "      <td>1</td>\n",
       "      <td>/crescentes/AZAN/FIOCRUZ20190122 (2738).jpg</td>\n",
       "      <td>crescentes</td>\n",
       "    </tr>\n",
       "  </tbody>\n",
       "</table>\n",
       "</div>"
      ],
      "text/plain": [
       "   Hipercellularity  Membranous  Normal  Sclerosis  podocytopathy  crescent  \\\n",
       "0                 0           0       0          1              0         1   \n",
       "1                 0           0       0          0              0         1   \n",
       "2                 0           0       0          1              0         1   \n",
       "3                 0           0       0          0              0         1   \n",
       "4                 0           0       0          1              0         1   \n",
       "\n",
       "                                          file True Attribute  \n",
       "0  /crescentes/AZAN/FIOCRUZ20190122 (1514).jpg     crescentes  \n",
       "1  /crescentes/AZAN/FIOCRUZ20190122 (1963).jpg     crescentes  \n",
       "2   /crescentes/AZAN/FIOCRUZ20190122 (252).jpg     crescentes  \n",
       "3  /crescentes/AZAN/FIOCRUZ20190122 (2520).jpg     crescentes  \n",
       "4  /crescentes/AZAN/FIOCRUZ20190122 (2738).jpg     crescentes  "
      ]
     },
     "execution_count": 37,
     "metadata": {},
     "output_type": "execute_result"
    }
   ],
   "source": [
    "metadata.head()"
   ]
  },
  {
   "cell_type": "code",
   "execution_count": 4,
   "metadata": {},
   "outputs": [],
   "source": [
    "\n",
    "# query = np.array([0,0,0,1,0,1])\n",
    "# k = 100\n",
    "# dist = np.array([distance.jaccard(query, i) for i in db])\n",
    "# ordered_ids = np.argsort(dist)[:k]\n",
    "# ordered_dist = dist[ordered_ids]\n",
    "\n",
    "# [(id, path) for  path, id in zip(metadata['file'].iloc[list(ordered_ids)], ordered_ids)]"
   ]
  },
  {
   "cell_type": "code",
   "execution_count": 31,
   "metadata": {},
   "outputs": [],
   "source": [
    "query=[1,0,1,0,1,0]\n",
    "k=200\n",
    "dist = np.array([distance.jaccard(query, i) for i in db2])\n",
    "ordered_ids = np.argsort(dist)[:k]\n",
    "ordered_dist = dist[ordered_ids]\n",
    "\n",
    "result_set = [\n",
    "    (id, dis)\n",
    "    for  id, dis in zip(\n",
    "       \n",
    "        ordered_ids,\n",
    "        ordered_dist,\n",
    "            )\n",
    "        ]\n"
   ]
  },
  {
   "cell_type": "code",
   "execution_count": 32,
   "metadata": {},
   "outputs": [],
   "source": [
    "# Time for Searching\n",
    "\n",
    "# 12.000 -> 0,1s\n",
    "# 100.112 -> 0,8s\n",
    "# 700.784 -> 5,6s\n",
    "# 1.401.568 -> 12,0s"
   ]
  },
  {
   "cell_type": "code",
   "execution_count": 27,
   "metadata": {},
   "outputs": [
    {
     "data": {
      "text/plain": [
       "(100112, 6)"
      ]
     },
     "execution_count": 27,
     "metadata": {},
     "output_type": "execute_result"
    }
   ],
   "source": [
    "db2.shape"
   ]
  },
  {
   "cell_type": "code",
   "execution_count": 30,
   "metadata": {},
   "outputs": [
    {
     "data": {
      "text/plain": [
       "(1401568, 6)"
      ]
     },
     "execution_count": 30,
     "metadata": {},
     "output_type": "execute_result"
    }
   ],
   "source": [
    "db2 = np.concatenate([\n",
    "    db2,\n",
    "    db2,\n",
    "\n",
    "    \n",
    "])\n",
    "\n",
    "db2.shape"
   ]
  },
  {
   "cell_type": "code",
   "execution_count": 13,
   "metadata": {},
   "outputs": [
    {
     "data": {
      "text/plain": [
       "(100112, 6)"
      ]
     },
     "execution_count": 13,
     "metadata": {},
     "output_type": "execute_result"
    }
   ],
   "source": [
    "db2 = np.concatenate([\n",
    "    db,\n",
    "    db,\n",
    "    db,\n",
    "    db,\n",
    "    db,\n",
    "    db,\n",
    "    db,\n",
    "    db\n",
    "])\n",
    "\n",
    "db2.shape"
   ]
  },
  {
   "cell_type": "code",
   "execution_count": 75,
   "metadata": {},
   "outputs": [
    {
     "data": {
      "text/plain": [
       "array([[<AxesSubplot:title={'center':'0'}>]], dtype=object)"
      ]
     },
     "execution_count": 75,
     "metadata": {},
     "output_type": "execute_result"
    },
    {
     "data": {
      "image/png": "[encoded data removed]",
      "text/plain": [
       "<Figure size 640x480 with 1 Axes>"
      ]
     },
     "metadata": {},
     "output_type": "display_data"
    }
   ],
   "source": [
    "pd.DataFrame(ordered_ids).hist(bins=100)"
   ]
  }
 ],
 "metadata": {
  "kernelspec": {
   "display_name": "Python 3",
   "language": "python",
   "name": "python3"
  },
  "language_info": {
   "codemirror_mode": {
    "name": "ipython",
    "version": 3
   },
   "file_extension": ".py",
   "mimetype": "text/x-python",
   "name": "python",
   "nbconvert_exporter": "python",
   "pygments_lexer": "ipython3",
   "version": "3.10.4"
  },
  "orig_nbformat": 4
 },
 "nbformat": 4,
 "nbformat_minor": 2
}
