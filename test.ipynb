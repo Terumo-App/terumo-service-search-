{
 "cells": [
  {
   "cell_type": "code",
   "execution_count": 3,
   "metadata": {},
   "outputs": [],
   "source": [
    "from scipy.spatial import distance\n",
    "import numpy as np\n",
    "import pandas as pd"
   ]
  },
  {
   "cell_type": "code",
   "execution_count": 30,
   "metadata": {},
   "outputs": [
    {
     "data": {
      "text/plain": [
       "0.0"
      ]
     },
     "execution_count": 30,
     "metadata": {},
     "output_type": "execute_result"
    }
   ],
   "source": [
    "a = np.array([1, 1, 0])\n",
    "b = np.array([1, 1, 0])\n",
    "\n",
    "\n",
    "\n",
    "[distance.jaccard(query, i) for i in ]\n"
   ]
  },
  {
   "cell_type": "code",
   "execution_count": 34,
   "metadata": {},
   "outputs": [
    {
     "data": {
      "text/plain": [
       "0.5"
      ]
     },
     "execution_count": 34,
     "metadata": {},
     "output_type": "execute_result"
    }
   ],
   "source": [
    "jaccard(a,b)"
   ]
  },
  {
   "cell_type": "code",
   "execution_count": 32,
   "metadata": {},
   "outputs": [],
   "source": [
    "def jaccard(x,y):\n",
    "    z=set(x).intersection(set(y))\n",
    "    n=float(len(z))/(len(x)+len(y)-len(z))\n",
    "    return n\n",
    "\n"
   ]
  },
  {
   "cell_type": "code",
   "execution_count": 6,
   "metadata": {},
   "outputs": [],
   "source": [
    "db = np.load('src/search_module/db_index/db_binary_vector.npy')\n",
    "metadata = pd.read_csv('src/search_module/db_index/image_db_index.csv')"
   ]
  },
  {
   "cell_type": "code",
   "execution_count": 37,
   "metadata": {},
   "outputs": [
    {
     "data": {
      "text/html": [
       "<div>\n",
       "<style scoped>\n",
       "    .dataframe tbody tr th:only-of-type {\n",
       "        vertical-align: middle;\n",
       "    }\n",
       "\n",
       "    .dataframe tbody tr th {\n",
       "        vertical-align: top;\n",
       "    }\n",
       "\n",
       "    .dataframe thead th {\n",
       "        text-align: right;\n",
       "    }\n",
       "</style>\n",
       "<table border=\"1\" class=\"dataframe\">\n",
       "  <thead>\n",
       "    <tr style=\"text-align: right;\">\n",
       "      <th></th>\n",
       "      <th>Hipercellularity</th>\n",
       "      <th>Membranous</th>\n",
       "      <th>Normal</th>\n",
       "      <th>Sclerosis</th>\n",
       "      <th>podocytopathy</th>\n",
       "      <th>crescent</th>\n",
       "      <th>file</th>\n",
       "      <th>True Attribute</th>\n",
       "    </tr>\n",
       "  </thead>\n",
       "  <tbody>\n",
       "    <tr>\n",
       "      <th>0</th>\n",
       "      <td>0</td>\n",
       "      <td>0</td>\n",
       "      <td>0</td>\n",
       "      <td>1</td>\n",
       "      <td>0</td>\n",
       "      <td>1</td>\n",
       "      <td>/crescentes/AZAN/FIOCRUZ20190122 (1514).jpg</td>\n",
       "      <td>crescentes</td>\n",
       "    </tr>\n",
       "    <tr>\n",
       "      <th>1</th>\n",
       "      <td>0</td>\n",
       "      <td>0</td>\n",
       "      <td>0</td>\n",
       "      <td>0</td>\n",
       "      <td>0</td>\n",
       "      <td>1</td>\n",
       "      <td>/crescentes/AZAN/FIOCRUZ20190122 (1963).jpg</td>\n",
       "      <td>crescentes</td>\n",
       "    </tr>\n",
       "    <tr>\n",
       "      <th>2</th>\n",
       "      <td>0</td>\n",
       "      <td>0</td>\n",
       "      <td>0</td>\n",
       "      <td>1</td>\n",
       "      <td>0</td>\n",
       "      <td>1</td>\n",
       "      <td>/crescentes/AZAN/FIOCRUZ20190122 (252).jpg</td>\n",
       "      <td>crescentes</td>\n",
       "    </tr>\n",
       "    <tr>\n",
       "      <th>3</th>\n",
       "      <td>0</td>\n",
       "      <td>0</td>\n",
       "      <td>0</td>\n",
       "      <td>0</td>\n",
       "      <td>0</td>\n",
       "      <td>1</td>\n",
       "      <td>/crescentes/AZAN/FIOCRUZ20190122 (2520).jpg</td>\n",
       "      <td>crescentes</td>\n",
       "    </tr>\n",
       "    <tr>\n",
       "      <th>4</th>\n",
       "      <td>0</td>\n",
       "      <td>0</td>\n",
       "      <td>0</td>\n",
       "      <td>1</td>\n",
       "      <td>0</td>\n",
       "      <td>1</td>\n",
       "      <td>/crescentes/AZAN/FIOCRUZ20190122 (2738).jpg</td>\n",
       "      <td>crescentes</td>\n",
       "    </tr>\n",
       "  </tbody>\n",
       "</table>\n",
       "</div>"
      ],
      "text/plain": [
       "   Hipercellularity  Membranous  Normal  Sclerosis  podocytopathy  crescent  \\\n",
       "0                 0           0       0          1              0         1   \n",
       "1                 0           0       0          0              0         1   \n",
       "2                 0           0       0          1              0         1   \n",
       "3                 0           0       0          0              0         1   \n",
       "4                 0           0       0          1              0         1   \n",
       "\n",
       "                                          file True Attribute  \n",
       "0  /crescentes/AZAN/FIOCRUZ20190122 (1514).jpg     crescentes  \n",
       "1  /crescentes/AZAN/FIOCRUZ20190122 (1963).jpg     crescentes  \n",
       "2   /crescentes/AZAN/FIOCRUZ20190122 (252).jpg     crescentes  \n",
       "3  /crescentes/AZAN/FIOCRUZ20190122 (2520).jpg     crescentes  \n",
       "4  /crescentes/AZAN/FIOCRUZ20190122 (2738).jpg     crescentes  "
      ]
     },
     "execution_count": 37,
     "metadata": {},
     "output_type": "execute_result"
    }
   ],
   "source": [
    "metadata.head()"
   ]
  },
  {
   "cell_type": "code",
   "execution_count": 90,
   "metadata": {},
   "outputs": [
    {
     "data": {
      "text/plain": [
       "[(0, '/crescentes/AZAN/FIOCRUZ20190122 (1514).jpg'),\n",
       " (654, '/crescentes/PAMS/FIOCRUZ20190123-17692.jpg'),\n",
       " (658, '/crescentes/PAMS/FIOCRUZ20190123-18437.jpg'),\n",
       " (659, '/crescentes/PAMS/FIOCRUZ20190123-18618.jpg'),\n",
       " (660, '/crescentes/PAMS/FIOCRUZ20190123-18619.jpg'),\n",
       " (661, '/crescentes/PAMS/FIOCRUZ20190123-18625.jpg'),\n",
       " (662, '/crescentes/PAMS/FIOCRUZ20190123-19492.JPG'),\n",
       " (665, '/crescentes/PAMS/FIOCRUZ20190123-1990.jpg'),\n",
       " (666, '/crescentes/PAMS/FIOCRUZ20190123-2045.jpg'),\n",
       " (668, '/crescentes/PAMS/FIOCRUZ20190123-2760.jpg'),\n",
       " (7842,\n",
       "  '/membranous/secondary_membranous/PICRO/FIOCRUZ-MEMBRANOSA20201SECUNDARIA-1021.jpg'),\n",
       " (669, '/crescentes/PAMS/FIOCRUZ20190123-4317.jpg'),\n",
       " (672, '/crescentes/PAMS/FIOCRUZ20190123-4772.jpg'),\n",
       " (673, '/crescentes/PAMS/FIOCRUZ20190123-4773.jpg'),\n",
       " (677, '/crescentes/PAMS/FIOCRUZ20190123-6827.jpg'),\n",
       " (678, '/crescentes/PAMS/FIOCRUZ20190123-6828.jpg'),\n",
       " (681, '/crescentes/PAMS/FIOCRUZ20190123-6895.jpg'),\n",
       " (682, '/crescentes/PAMS/FIOCRUZ20190123-7629.jpg'),\n",
       " (683, '/crescentes/PAMS/FIOCRUZ20190123-7630.jpg'),\n",
       " (684, '/crescentes/PAMS/FIOCRUZ20190123-7632.jpg'),\n",
       " (686, '/crescentes/PAMS/FIOCRUZ20190123-791.jpg'),\n",
       " (671, '/crescentes/PAMS/FIOCRUZ20190123-4770.jpg'),\n",
       " (687, '/crescentes/PAMS/FIOCRUZ20190123-793.jpg'),\n",
       " (651, '/crescentes/PAMS/FIOCRUZ20190123-16407.jpg'),\n",
       " (648, '/crescentes/PAMS/FIOCRUZ20190123-15740.jpg'),\n",
       " (614, '/crescentes/PAMS/FIOCRUZ20190122 (6269).jpg'),\n",
       " (615, '/crescentes/PAMS/FIOCRUZ20190122 (6468).jpg'),\n",
       " (616, '/crescentes/PAMS/FIOCRUZ20190122 (6469).jpg'),\n",
       " (617, '/crescentes/PAMS/FIOCRUZ20190122 (6534).jpg'),\n",
       " (618, '/crescentes/PAMS/FIOCRUZ20190122 (7255).jpg'),\n",
       " (623, '/crescentes/PAMS/FIOCRUZ20190123-11024.jpg'),\n",
       " (626, '/crescentes/PAMS/FIOCRUZ20190123-11206.jpg'),\n",
       " (627, '/crescentes/PAMS/FIOCRUZ20190123-11207.jpg'),\n",
       " (629, '/crescentes/PAMS/FIOCRUZ20190123-11445.jpg'),\n",
       " (649, '/crescentes/PAMS/FIOCRUZ20190123-16405.jpg'),\n",
       " (630, '/crescentes/PAMS/FIOCRUZ20190123-11448.jpg'),\n",
       " (633, '/crescentes/PAMS/FIOCRUZ20190123-1154.jpg'),\n",
       " (634, '/crescentes/PAMS/FIOCRUZ20190123-12811.jpg'),\n",
       " (635, '/crescentes/PAMS/FIOCRUZ20190123-1286.jpg'),\n",
       " (636, '/crescentes/PAMS/FIOCRUZ20190123-1287.jpg'),\n",
       " (638, '/crescentes/PAMS/FIOCRUZ20190123-1345.jpg'),\n",
       " (640, '/crescentes/PAMS/FIOCRUZ20190123-13493.jpg'),\n",
       " (643, '/crescentes/PAMS/FIOCRUZ20190123-14847.jpg'),\n",
       " (644, '/crescentes/PAMS/FIOCRUZ20190123-15105.jpg'),\n",
       " (646, '/crescentes/PAMS/FIOCRUZ20190123-15562.jpg'),\n",
       " (632, '/crescentes/PAMS/FIOCRUZ20190123-1150.jpg'),\n",
       " (690, '/crescentes/PAMS/FIOCRUZ20190123-901.jpg'),\n",
       " (691, '/crescentes/PAMS/FIOCRUZ20190123-902.jpg'),\n",
       " (692, '/crescentes/PAMS/FIOCRUZ20190123-904.jpg'),\n",
       " (750, '/crescentes/PAS/FIOCRUZ20190122 (1558).jpg'),\n",
       " (752, '/crescentes/PAS/FIOCRUZ20190122 (2171).jpg'),\n",
       " (753, '/crescentes/PAS/FIOCRUZ20190122 (2182).jpg'),\n",
       " (756, '/crescentes/PAS/FIOCRUZ20190122 (2185).jpg'),\n",
       " (757, '/crescentes/PAS/FIOCRUZ20190122 (2206).jpg'),\n",
       " (758, '/crescentes/PAS/FIOCRUZ20190122 (2286).jpg'),\n",
       " (759, '/crescentes/PAS/FIOCRUZ20190122 (2400).jpg'),\n",
       " (760, '/crescentes/PAS/FIOCRUZ20190122 (244).jpg'),\n",
       " (766, '/crescentes/PAS/FIOCRUZ20190122 (2725).jpg'),\n",
       " (748, '/crescentes/PAS/FIOCRUZ20190122 (15).jpg'),\n",
       " (767, '/crescentes/PAS/FIOCRUZ20190122 (2726).jpg'),\n",
       " (769, '/crescentes/PAS/FIOCRUZ20190122 (2728).jpg'),\n",
       " (770, '/crescentes/PAS/FIOCRUZ20190122 (2729).jpg'),\n",
       " (772, '/crescentes/PAS/FIOCRUZ20190122 (2945).jpg'),\n",
       " (773, '/crescentes/PAS/FIOCRUZ20190122 (2950).jpg'),\n",
       " (777, '/crescentes/PAS/FIOCRUZ20190122 (3353).jpg'),\n",
       " (781, '/crescentes/PAS/FIOCRUZ20190122 (3644).jpg'),\n",
       " (782, '/crescentes/PAS/FIOCRUZ20190122 (3648).jpg'),\n",
       " (783, '/crescentes/PAS/FIOCRUZ20190122 (3842).jpg'),\n",
       " (784, '/crescentes/PAS/FIOCRUZ20190122 (3845).jpg'),\n",
       " (768, '/crescentes/PAS/FIOCRUZ20190122 (2727).jpg'),\n",
       " (747, '/crescentes/PAS/FIOCRUZ20190122 (14).jpg'),\n",
       " (745, '/crescentes/PAMS/UFMG20190122 (720).jpg'),\n",
       " (744, '/crescentes/PAMS/NAYSE20190124-5.jpg'),\n",
       " (694, '/crescentes/PAMS/FIOCRUZ20190123-9193.jpg'),\n",
       " (697, '/crescentes/PAMS/FIOCRUZ20190123-9199.jpg'),\n",
       " (698, '/crescentes/PAMS/FIOCRUZ20190123-9267.jpg'),\n",
       " (699, '/crescentes/PAMS/FIOCRUZ20190123-9268.jpg'),\n",
       " (700, '/crescentes/PAMS/FIOCRUZ20190123-9269.jpg'),\n",
       " (701, '/crescentes/PAMS/FIOCRUZ20190123-9271.jpg'),\n",
       " (702, '/crescentes/PAMS/FIOCRUZ20190123-9272.jpg'),\n",
       " (705, '/crescentes/PAMS/FIOCRUZ20190123-9671.jpg'),\n",
       " (706, '/crescentes/PAMS/FIOCRUZ20190123-9674.jpg'),\n",
       " (709, '/crescentes/PAMS/FIOCRUZ20190123-9686.jpg'),\n",
       " (717, '/crescentes/PAMS/FIOCRUZ20190123-9828.jpg'),\n",
       " (720, '/crescentes/PAMS/FIOCRUZ20190123-9833.jpg'),\n",
       " (721, '/crescentes/PAMS/FIOCRUZ20190123-9834.jpg'),\n",
       " (726, '/crescentes/PAMS/FIOCRUZ20190123-9844.jpg'),\n",
       " (727, '/crescentes/PAMS/FIOCRUZ20190123-9846.jpg'),\n",
       " (729, '/crescentes/PAMS/FIOCRUZ20190123-9848.jpg'),\n",
       " (731, '/crescentes/PAMS/FIOCRUZ20190123-9935.jpg'),\n",
       " (733, '/crescentes/PAMS/FIOCRUZ20190123-9938.jpg'),\n",
       " (737, '/crescentes/PAMS/FIOCRUZ20190123-9946.jpg'),\n",
       " (738, '/crescentes/PAMS/FIOCRUZ20190123-9947.jpg'),\n",
       " (739, '/crescentes/PAMS/IMAGEPAT20190122-141.jpg'),\n",
       " (613, '/crescentes/PAMS/FIOCRUZ20190122 (6267).jpg'),\n",
       " (785, '/crescentes/PAS/FIOCRUZ20190122 (4227).jpg'),\n",
       " (612, '/crescentes/PAMS/FIOCRUZ20190122 (5651).jpg'),\n",
       " (609, '/crescentes/PAMS/FIOCRUZ20190122 (5388).jpg'),\n",
       " (7374,\n",
       "  '/membranous/secondary_membranous/PAS/FIOCRUZ-MEMBRANOSA20201SECUNDARIA-1407.jpg'),\n",
       " (12224, '/sclerosis/sclerosis_withoutMemb/PAS/PSESCLEROSE20201002-314.jpg')]"
      ]
     },
     "execution_count": 90,
     "metadata": {},
     "output_type": "execute_result"
    }
   ],
   "source": [
    "\n",
    "query = np.array([0,0,0,1,0,1])\n",
    "k = 100\n",
    "dist = np.array([distance.jaccard(query, i) for i in db])\n",
    "ordered_ids = np.argsort(dist)[:k]\n",
    "ordered_dist = dist[ordered_ids]\n",
    "\n",
    "[(id, path) for  path, id in zip(metadata['file'].iloc[list(ordered_ids)], ordered_ids)]"
   ]
  },
  {
   "cell_type": "code",
   "execution_count": 60,
   "metadata": {},
   "outputs": [
    {
     "data": {
      "text/plain": [
       "(12514, 8)"
      ]
     },
     "execution_count": 60,
     "metadata": {},
     "output_type": "execute_result"
    }
   ],
   "source": [
    "metadata.shape\n"
   ]
  },
  {
   "cell_type": "code",
   "execution_count": 84,
   "metadata": {},
   "outputs": [
    {
     "data": {
      "text/plain": [
       "['/crescentes/AZAN/FIOCRUZ20190122 (1514).jpg',\n",
       " '/crescentes/PAMS/FIOCRUZ20190123-17692.jpg',\n",
       " '/crescentes/PAMS/FIOCRUZ20190123-18437.jpg',\n",
       " '/crescentes/PAMS/FIOCRUZ20190123-18618.jpg',\n",
       " '/crescentes/PAMS/FIOCRUZ20190123-18619.jpg',\n",
       " '/crescentes/PAMS/FIOCRUZ20190123-18625.jpg',\n",
       " '/crescentes/PAMS/FIOCRUZ20190123-19492.JPG',\n",
       " '/crescentes/PAMS/FIOCRUZ20190123-1990.jpg',\n",
       " '/crescentes/PAMS/FIOCRUZ20190123-2045.jpg',\n",
       " '/crescentes/PAMS/FIOCRUZ20190123-2760.jpg',\n",
       " '/membranous/secondary_membranous/PICRO/FIOCRUZ-MEMBRANOSA20201SECUNDARIA-1021.jpg',\n",
       " '/crescentes/PAMS/FIOCRUZ20190123-4317.jpg',\n",
       " '/crescentes/PAMS/FIOCRUZ20190123-4772.jpg',\n",
       " '/crescentes/PAMS/FIOCRUZ20190123-4773.jpg',\n",
       " '/crescentes/PAMS/FIOCRUZ20190123-6827.jpg',\n",
       " '/crescentes/PAMS/FIOCRUZ20190123-6828.jpg',\n",
       " '/crescentes/PAMS/FIOCRUZ20190123-6895.jpg',\n",
       " '/crescentes/PAMS/FIOCRUZ20190123-7629.jpg',\n",
       " '/crescentes/PAMS/FIOCRUZ20190123-7630.jpg',\n",
       " '/crescentes/PAMS/FIOCRUZ20190123-7632.jpg',\n",
       " '/crescentes/PAMS/FIOCRUZ20190123-791.jpg',\n",
       " '/crescentes/PAMS/FIOCRUZ20190123-4770.jpg',\n",
       " '/crescentes/PAMS/FIOCRUZ20190123-793.jpg',\n",
       " '/crescentes/PAMS/FIOCRUZ20190123-16407.jpg',\n",
       " '/crescentes/PAMS/FIOCRUZ20190123-15740.jpg',\n",
       " '/crescentes/PAMS/FIOCRUZ20190122 (6269).jpg',\n",
       " '/crescentes/PAMS/FIOCRUZ20190122 (6468).jpg',\n",
       " '/crescentes/PAMS/FIOCRUZ20190122 (6469).jpg',\n",
       " '/crescentes/PAMS/FIOCRUZ20190122 (6534).jpg',\n",
       " '/crescentes/PAMS/FIOCRUZ20190122 (7255).jpg',\n",
       " '/crescentes/PAMS/FIOCRUZ20190123-11024.jpg',\n",
       " '/crescentes/PAMS/FIOCRUZ20190123-11206.jpg',\n",
       " '/crescentes/PAMS/FIOCRUZ20190123-11207.jpg',\n",
       " '/crescentes/PAMS/FIOCRUZ20190123-11445.jpg',\n",
       " '/crescentes/PAMS/FIOCRUZ20190123-16405.jpg',\n",
       " '/crescentes/PAMS/FIOCRUZ20190123-11448.jpg',\n",
       " '/crescentes/PAMS/FIOCRUZ20190123-1154.jpg',\n",
       " '/crescentes/PAMS/FIOCRUZ20190123-12811.jpg',\n",
       " '/crescentes/PAMS/FIOCRUZ20190123-1286.jpg',\n",
       " '/crescentes/PAMS/FIOCRUZ20190123-1287.jpg',\n",
       " '/crescentes/PAMS/FIOCRUZ20190123-1345.jpg',\n",
       " '/crescentes/PAMS/FIOCRUZ20190123-13493.jpg',\n",
       " '/crescentes/PAMS/FIOCRUZ20190123-14847.jpg',\n",
       " '/crescentes/PAMS/FIOCRUZ20190123-15105.jpg',\n",
       " '/crescentes/PAMS/FIOCRUZ20190123-15562.jpg',\n",
       " '/crescentes/PAMS/FIOCRUZ20190123-1150.jpg',\n",
       " '/crescentes/PAMS/FIOCRUZ20190123-901.jpg',\n",
       " '/crescentes/PAMS/FIOCRUZ20190123-902.jpg',\n",
       " '/crescentes/PAMS/FIOCRUZ20190123-904.jpg',\n",
       " '/crescentes/PAS/FIOCRUZ20190122 (1558).jpg',\n",
       " '/crescentes/PAS/FIOCRUZ20190122 (2171).jpg',\n",
       " '/crescentes/PAS/FIOCRUZ20190122 (2182).jpg',\n",
       " '/crescentes/PAS/FIOCRUZ20190122 (2185).jpg',\n",
       " '/crescentes/PAS/FIOCRUZ20190122 (2206).jpg',\n",
       " '/crescentes/PAS/FIOCRUZ20190122 (2286).jpg',\n",
       " '/crescentes/PAS/FIOCRUZ20190122 (2400).jpg',\n",
       " '/crescentes/PAS/FIOCRUZ20190122 (244).jpg',\n",
       " '/crescentes/PAS/FIOCRUZ20190122 (2725).jpg',\n",
       " '/crescentes/PAS/FIOCRUZ20190122 (15).jpg',\n",
       " '/crescentes/PAS/FIOCRUZ20190122 (2726).jpg',\n",
       " '/crescentes/PAS/FIOCRUZ20190122 (2728).jpg',\n",
       " '/crescentes/PAS/FIOCRUZ20190122 (2729).jpg',\n",
       " '/crescentes/PAS/FIOCRUZ20190122 (2945).jpg',\n",
       " '/crescentes/PAS/FIOCRUZ20190122 (2950).jpg',\n",
       " '/crescentes/PAS/FIOCRUZ20190122 (3353).jpg',\n",
       " '/crescentes/PAS/FIOCRUZ20190122 (3644).jpg',\n",
       " '/crescentes/PAS/FIOCRUZ20190122 (3648).jpg',\n",
       " '/crescentes/PAS/FIOCRUZ20190122 (3842).jpg',\n",
       " '/crescentes/PAS/FIOCRUZ20190122 (3845).jpg',\n",
       " '/crescentes/PAS/FIOCRUZ20190122 (2727).jpg',\n",
       " '/crescentes/PAS/FIOCRUZ20190122 (14).jpg',\n",
       " '/crescentes/PAMS/UFMG20190122 (720).jpg',\n",
       " '/crescentes/PAMS/NAYSE20190124-5.jpg',\n",
       " '/crescentes/PAMS/FIOCRUZ20190123-9193.jpg',\n",
       " '/crescentes/PAMS/FIOCRUZ20190123-9199.jpg',\n",
       " '/crescentes/PAMS/FIOCRUZ20190123-9267.jpg',\n",
       " '/crescentes/PAMS/FIOCRUZ20190123-9268.jpg',\n",
       " '/crescentes/PAMS/FIOCRUZ20190123-9269.jpg',\n",
       " '/crescentes/PAMS/FIOCRUZ20190123-9271.jpg',\n",
       " '/crescentes/PAMS/FIOCRUZ20190123-9272.jpg',\n",
       " '/crescentes/PAMS/FIOCRUZ20190123-9671.jpg',\n",
       " '/crescentes/PAMS/FIOCRUZ20190123-9674.jpg',\n",
       " '/crescentes/PAMS/FIOCRUZ20190123-9686.jpg',\n",
       " '/crescentes/PAMS/FIOCRUZ20190123-9828.jpg',\n",
       " '/crescentes/PAMS/FIOCRUZ20190123-9833.jpg',\n",
       " '/crescentes/PAMS/FIOCRUZ20190123-9834.jpg',\n",
       " '/crescentes/PAMS/FIOCRUZ20190123-9844.jpg',\n",
       " '/crescentes/PAMS/FIOCRUZ20190123-9846.jpg',\n",
       " '/crescentes/PAMS/FIOCRUZ20190123-9848.jpg',\n",
       " '/crescentes/PAMS/FIOCRUZ20190123-9935.jpg',\n",
       " '/crescentes/PAMS/FIOCRUZ20190123-9938.jpg',\n",
       " '/crescentes/PAMS/FIOCRUZ20190123-9946.jpg',\n",
       " '/crescentes/PAMS/FIOCRUZ20190123-9947.jpg',\n",
       " '/crescentes/PAMS/IMAGEPAT20190122-141.jpg',\n",
       " '/crescentes/PAMS/FIOCRUZ20190122 (6267).jpg',\n",
       " '/crescentes/PAS/FIOCRUZ20190122 (4227).jpg',\n",
       " '/crescentes/PAMS/FIOCRUZ20190122 (5651).jpg',\n",
       " '/crescentes/PAMS/FIOCRUZ20190122 (5388).jpg',\n",
       " '/membranous/secondary_membranous/PAS/FIOCRUZ-MEMBRANOSA20201SECUNDARIA-1407.jpg',\n",
       " '/sclerosis/sclerosis_withoutMemb/PAS/PSESCLEROSE20201002-314.jpg']"
      ]
     },
     "execution_count": 84,
     "metadata": {},
     "output_type": "execute_result"
    }
   ],
   "source": []
  },
  {
   "cell_type": "code",
   "execution_count": 65,
   "metadata": {},
   "outputs": [
    {
     "data": {
      "text/plain": [
       "0"
      ]
     },
     "execution_count": 65,
     "metadata": {},
     "output_type": "execute_result"
    }
   ],
   "source": [
    "min(list(ordered_ids))"
   ]
  },
  {
   "cell_type": "code",
   "execution_count": 75,
   "metadata": {},
   "outputs": [
    {
     "data": {
      "text/plain": [
       "array([[<AxesSubplot:title={'center':'0'}>]], dtype=object)"
      ]
     },
     "execution_count": 75,
     "metadata": {},
     "output_type": "execute_result"
    },
    {
     "data": {
      "image/png": "[encoded data removed]",
      "text/plain": [
       "<Figure size 640x480 with 1 Axes>"
      ]
     },
     "metadata": {},
     "output_type": "display_data"
    }
   ],
   "source": [
    "pd.DataFrame(ordered_ids).hist(bins=100)"
   ]
  }
 ],
 "metadata": {
  "kernelspec": {
   "display_name": "Python 3",
   "language": "python",
   "name": "python3"
  },
  "language_info": {
   "codemirror_mode": {
    "name": "ipython",
    "version": 3
   },
   "file_extension": ".py",
   "mimetype": "text/x-python",
   "name": "python",
   "nbconvert_exporter": "python",
   "pygments_lexer": "ipython3",
   "version": "3.10.4"
  },
  "orig_nbformat": 4
 },
 "nbformat": 4,
 "nbformat_minor": 2
}
